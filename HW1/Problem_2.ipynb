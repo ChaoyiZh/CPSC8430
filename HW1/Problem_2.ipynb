{
 "cells": [
  {
   "cell_type": "code",
   "execution_count": 75,
   "id": "initial_id",
   "metadata": {
    "collapsed": true,
    "ExecuteTime": {
     "end_time": "2024-02-08T05:47:11.845923300Z",
     "start_time": "2024-02-08T05:47:11.826785400Z"
    }
   },
   "outputs": [],
   "source": [
    "import numpy as np\n",
    "import matplotlib.pyplot as plt\n",
    "from torch import  optim\n",
    "import torch.nn as nn\n",
    "import torch\n",
    "import copy\n",
    "import torch.nn.functional as F\n",
    "from torchvision.datasets import MNIST, CIFAR10\n",
    "import torchvision.transforms as transforms\n",
    "from torch.utils.data import DataLoader"
   ]
  },
  {
   "cell_type": "code",
   "outputs": [],
   "source": [
    "class Model(nn.Module):\n",
    "    def __init__(self, input_size, output_size):\n",
    "        super(Model, self).__init__()\n",
    "        self.fc1 = nn.Linear(input_size, 128)\n",
    "        self.fc2 = nn.Linear(128, 64)\n",
    "        self.fc3 = nn.Linear(64,32)\n",
    "        self.fc4 = nn.Linear(32, output_size)\n",
    "    def forward(self, x):\n",
    "        x=F.relu(self.fc1(x))\n",
    "        x=F.relu(self.fc2(x))\n",
    "        x=F.relu(self.fc3(x))\n",
    "        x=self.fc4(x)\n",
    "        \n",
    "        return x"
   ],
   "metadata": {
    "collapsed": false,
    "ExecuteTime": {
     "end_time": "2024-02-08T05:47:11.863487300Z",
     "start_time": "2024-02-08T05:47:11.849419300Z"
    }
   },
   "id": "7a9bb3d93f1afcd0",
   "execution_count": 76
  },
  {
   "cell_type": "code",
   "outputs": [],
   "source": [
    "transform = transforms.Compose([\n",
    "    transforms.ToTensor(),  \n",
    "    transforms.Normalize((0.5,), (0.5,))  \n",
    "])\n",
    "\n",
    "def get_dataset(dataset_name):\n",
    "    dataset = MNIST(root='./data', train=True, download=True, transform=transform)\n",
    "\n",
    "    return dataset\n",
    "\n",
    "def get_dataloader(dataset_name, batch_size=64, shuffle=True):\n",
    "    dataset = get_dataset(dataset_name)\n",
    "    dataloader = DataLoader(dataset, batch_size=batch_size, shuffle=shuffle)\n",
    "    return dataloader\n",
    "\n",
    "batch_size = 128\n",
    "\n",
    "train_loader_mnist = get_dataloader('mnist', batch_size=128, shuffle=True)\n",
    "test_loader_mnist = get_dataloader('mnist', batch_size=128, shuffle=False)\n",
    "\n",
    "trainset = MNIST('./data', train = True, download = True, transform = transform)\n",
    "train_loader = torch.utils.data.DataLoader(trainset, batch_size = batch_size, shuffle=True)\n",
    "\n",
    "testset = MNIST('./data', train = True, download = True, transform = transform)\n",
    "test_loader = torch.utils.data.DataLoader(trainset, batch_size = batch_size, shuffle=False)\n",
    "\n",
    "device = torch.device('cuda' if torch.cuda.is_available() else 'cpu')\n",
    "num_epochs = 50\n",
    "num_trains = 8\n",
    "\n",
    "\n",
    "def train(model, train_loader, device, lr=0.001, epochs=100, criterion = nn.CrossEntropyLoss()):\n",
    "    # criterion = nn.CrossEntropyLoss()\n",
    "    optimizer = torch.optim.Adam(model.parameters(), lr=lr)\n",
    "    \n",
    "    epoch_weights = []\n",
    "    grad_per_iter = [] \n",
    "    loss_per_iter = []\n",
    "\n",
    "    for epoch in range(epochs):\n",
    "        model.train()\n",
    "        running_loss = 0.0\n",
    "        for inputs, labels in train_loader:\n",
    "            # 假设我们需要将输入展平（对于图像数据）\n",
    "            inputs = inputs.view(inputs.size(0), -1)\n",
    "            inputs, labels = inputs.to(device), labels.to(device)\n",
    "\n",
    "            optimizer.zero_grad()\n",
    "\n",
    "            outputs = model(inputs)\n",
    "            loss = criterion(outputs, labels)\n",
    "            loss.backward()\n",
    "            optimizer.step()\n",
    "\n",
    "            running_loss += loss.item()\n",
    "            loss_per_iter.append(loss.item())\n",
    "            \n",
    "            \n",
    "            grad_all_itr = 0.0\n",
    "            for p in model.parameters():\n",
    "                if p.grad is not None:\n",
    "                    grad_all_itr += (p.grad.cpu().data.numpy() ** 2).sum()\n",
    "            grad_norm = grad_all_itr ** 0.5\n",
    "            grad_per_iter.append(grad_norm)\n",
    "            \n",
    "        \n",
    "        \n",
    "        if epoch % 3 == 0:\n",
    "            epoch_weights.append(copy.deepcopy(model.state_dict()))\n",
    "\n",
    "        epoch_loss = running_loss / len(train_loader)\n",
    "\n",
    "\n",
    "        print(f'Epoch [{epoch+1}/{epochs}], Loss: {epoch_loss:.4f}')\n",
    "\n",
    "    print('Finished Training')\n",
    "    \n",
    "    return epoch_weights, grad_per_iter, loss_per_iter\n",
    "    \n"
   ],
   "metadata": {
    "collapsed": false,
    "ExecuteTime": {
     "end_time": "2024-02-08T05:47:12.010800400Z",
     "start_time": "2024-02-08T05:47:11.855492900Z"
    }
   },
   "id": "71e1a1b2ed0eb11a",
   "execution_count": 77
  },
  {
   "cell_type": "code",
   "outputs": [
    {
     "name": "stdout",
     "output_type": "stream",
     "text": [
      "Epoch [1/50], Loss: 0.5491\n",
      "Epoch [2/50], Loss: 0.2504\n",
      "Epoch [3/50], Loss: 0.1837\n",
      "Epoch [4/50], Loss: 0.1460\n",
      "Epoch [5/50], Loss: 0.1254\n",
      "Epoch [6/50], Loss: 0.1068\n",
      "Epoch [7/50], Loss: 0.0950\n",
      "Epoch [8/50], Loss: 0.0843\n",
      "Epoch [9/50], Loss: 0.0750\n",
      "Epoch [10/50], Loss: 0.0701\n",
      "Epoch [11/50], Loss: 0.0624\n",
      "Epoch [12/50], Loss: 0.0595\n",
      "Epoch [13/50], Loss: 0.0522\n",
      "Epoch [14/50], Loss: 0.0526\n",
      "Epoch [15/50], Loss: 0.0458\n",
      "Epoch [16/50], Loss: 0.0460\n",
      "Epoch [17/50], Loss: 0.0393\n",
      "Epoch [18/50], Loss: 0.0381\n",
      "Epoch [19/50], Loss: 0.0367\n",
      "Epoch [20/50], Loss: 0.0338\n",
      "Epoch [21/50], Loss: 0.0309\n",
      "Epoch [22/50], Loss: 0.0318\n",
      "Epoch [23/50], Loss: 0.0290\n",
      "Epoch [24/50], Loss: 0.0263\n",
      "Epoch [25/50], Loss: 0.0261\n",
      "Epoch [26/50], Loss: 0.0244\n",
      "Epoch [27/50], Loss: 0.0260\n",
      "Epoch [28/50], Loss: 0.0226\n",
      "Epoch [29/50], Loss: 0.0236\n",
      "Epoch [30/50], Loss: 0.0204\n",
      "Epoch [31/50], Loss: 0.0167\n",
      "Epoch [32/50], Loss: 0.0202\n",
      "Epoch [33/50], Loss: 0.0235\n",
      "Epoch [34/50], Loss: 0.0181\n",
      "Epoch [35/50], Loss: 0.0174\n",
      "Epoch [36/50], Loss: 0.0140\n",
      "Epoch [37/50], Loss: 0.0195\n",
      "Epoch [38/50], Loss: 0.0154\n",
      "Epoch [39/50], Loss: 0.0183\n",
      "Epoch [40/50], Loss: 0.0167\n",
      "Epoch [41/50], Loss: 0.0158\n",
      "Epoch [42/50], Loss: 0.0186\n",
      "Epoch [43/50], Loss: 0.0168\n",
      "Epoch [44/50], Loss: 0.0123\n",
      "Epoch [45/50], Loss: 0.0118\n",
      "Epoch [46/50], Loss: 0.0175\n",
      "Epoch [47/50], Loss: 0.0121\n",
      "Epoch [48/50], Loss: 0.0160\n",
      "Epoch [49/50], Loss: 0.0127\n",
      "Epoch [50/50], Loss: 0.0153\n",
      "Finished Training\n",
      "Epoch [1/50], Loss: 0.5471\n",
      "Epoch [2/50], Loss: 0.2478\n",
      "Epoch [3/50], Loss: 0.1820\n",
      "Epoch [4/50], Loss: 0.1501\n",
      "Epoch [5/50], Loss: 0.1225\n",
      "Epoch [6/50], Loss: 0.1047\n",
      "Epoch [7/50], Loss: 0.0935\n",
      "Epoch [8/50], Loss: 0.0821\n",
      "Epoch [9/50], Loss: 0.0758\n",
      "Epoch [10/50], Loss: 0.0671\n",
      "Epoch [11/50], Loss: 0.0621\n",
      "Epoch [12/50], Loss: 0.0578\n",
      "Epoch [13/50], Loss: 0.0520\n",
      "Epoch [14/50], Loss: 0.0480\n",
      "Epoch [15/50], Loss: 0.0439\n",
      "Epoch [16/50], Loss: 0.0432\n",
      "Epoch [17/50], Loss: 0.0408\n",
      "Epoch [18/50], Loss: 0.0363\n",
      "Epoch [19/50], Loss: 0.0342\n",
      "Epoch [20/50], Loss: 0.0309\n",
      "Epoch [21/50], Loss: 0.0332\n",
      "Epoch [22/50], Loss: 0.0280\n",
      "Epoch [23/50], Loss: 0.0306\n",
      "Epoch [24/50], Loss: 0.0268\n",
      "Epoch [25/50], Loss: 0.0213\n",
      "Epoch [26/50], Loss: 0.0242\n",
      "Epoch [27/50], Loss: 0.0231\n",
      "Epoch [28/50], Loss: 0.0235\n"
     ]
    }
   ],
   "source": [
    "weights = {}\n",
    "for i in range(num_trains):\n",
    "    model = Model(28*28, 10).to(device)\n",
    "    epoch_weights,_,_ = train(model, train_loader, device = device, lr=0.001, epochs=num_epochs, criterion=nn.CrossEntropyLoss())   \n",
    "    weights[i] = epoch_weights"
   ],
   "metadata": {
    "collapsed": false,
    "is_executing": true,
    "ExecuteTime": {
     "start_time": "2024-02-08T05:47:12.011799700Z"
    }
   },
   "id": "589beb4ba235d9cd",
   "execution_count": null
  },
  {
   "cell_type": "code",
   "outputs": [],
   "source": [
    "\n",
    "from sklearn.decomposition import PCA \n",
    "n_samples_per_session = len(weights[0])\n",
    "n_samples = num_trains * n_samples_per_session \n",
    "n_features = weights[0][0]['fc1.weight'].cpu().numpy().flatten().shape[0] \n",
    "\n",
    "PCA_input_data = np.zeros((n_samples, n_features))\n",
    "\n",
    "\n",
    "\n",
    "for t in range(num_trains):\n",
    "    for i in range(n_samples_per_session): \n",
    "        PCA_input_data[t * n_samples_per_session + i, :] = weights[t][i]['fc1.weight'].flatten().cpu().numpy()\n",
    "\n",
    "\n",
    "reduced_data = PCA(n_components = 2).fit_transform(PCA_input_data)\n",
    "\n",
    "\n",
    "colors = [\"red\", \"orange\", \"yellow\", \"green\", \"cyan\", \"blue\", \"magenta\", \"brown\"]\n",
    "for t in range(num_trains):\n",
    "    plt.scatter(reduced_data.T[0][t*n_samples_per_session:(t+1)*n_samples_per_session], reduced_data.T[1][t*n_samples_per_session:(t+1)*n_samples_per_session], color=colors[t], marker='+', label=f\"No. {t+1} train\")\n",
    "plt.legend()\n",
    "plt.title(\"Layer 1\")\n",
    "plt.show()"
   ],
   "metadata": {
    "collapsed": false,
    "is_executing": true
   },
   "id": "9d6ad5de52854fa6",
   "execution_count": null
  },
  {
   "cell_type": "code",
   "outputs": [],
   "source": [
    "\n",
    "n_samples_per_session = len(weights[0])\n",
    "n_samples = num_trains * n_samples_per_session \n",
    "n_features = weights[0][0]['fc1.weight'].cpu().numpy().flatten().shape[0] + weights[0][0]['fc2.weight'].cpu().numpy().flatten().shape[0] + weights[0][0]['fc3.weight'].cpu().numpy().flatten().shape[0]+ weights[0][0]['fc4.weight'].cpu().numpy().flatten().shape[0]\n",
    "\n",
    "\n",
    "PCA_input_data = np.zeros((n_samples, n_features))\n",
    "\n",
    "\n",
    "\n",
    "# populate high-dim input tensor \n",
    "for t in range(num_trains):\n",
    "    for i in range(n_samples_per_session):\n",
    "        layer_weights = [weights[t][i][f'{layer}.weight'].flatten().cpu().numpy() for layer in ['fc1', 'fc2', 'fc3', 'fc4']]\n",
    "        PCA_input_data[t * n_samples_per_session + i, :] = np.concatenate(layer_weights)\n",
    "\n",
    "\n",
    "\n",
    "reduced_data = PCA(n_components = 2).fit_transform(PCA_input_data)\n",
    "\n",
    "\n",
    "colors = [\"red\", \"orange\", \"yellow\", \"green\", \"cyan\", \"blue\", \"magenta\", \"brown\"]\n",
    "for t in range(num_trains):\n",
    "    plt.scatter(reduced_data.T[0][t*n_samples_per_session:(t+1)*n_samples_per_session], reduced_data.T[1][t*n_samples_per_session:(t+1)*n_samples_per_session], color=colors[t], marker='+', label=f\"No. {t+1} train\")\n",
    "plt.legend()\n",
    "plt.title(\"Whole model\")\n",
    "plt.show()"
   ],
   "metadata": {
    "collapsed": false,
    "is_executing": true
   },
   "id": "5a277bd05d3491c5",
   "execution_count": null
  },
  {
   "cell_type": "code",
   "outputs": [],
   "source": [
    "model = Model(28*28, 10).to(device)\n",
    "_,grad_per_iter,loss_per_iter = train(model, train_loader, device = device, lr=0.001, epochs=50)   "
   ],
   "metadata": {
    "collapsed": false,
    "is_executing": true
   },
   "id": "c8a261e9b5d621aa",
   "execution_count": null
  },
  {
   "cell_type": "code",
   "outputs": [],
   "source": [
    "plt.figure()\n",
    "plt.plot(loss_per_iter)\n",
    "plt.title('Loss During Training for MNIST model')\n",
    "plt.xlabel(\"Iteration\")\n",
    "plt.ylabel(\"Loss\")\n",
    "plt.show()\n",
    "\n",
    "\n",
    "plt.figure()\n",
    "plt.plot(grad_per_iter)\n",
    "plt.title('Grad During Training for MNIST model')\n",
    "plt.xlabel(\"Iteration\")\n",
    "plt.ylabel(\"Grad\")\n",
    "plt.show()"
   ],
   "metadata": {
    "collapsed": false,
    "is_executing": true
   },
   "id": "cee6d9070a292ecb",
   "execution_count": null
  },
  {
   "cell_type": "code",
   "outputs": [],
   "source": [
    "def func1(x):\n",
    "    return np.sin(5 * np.pi * x) / (5 * np.pi * x)\n",
    "x = np.linspace(2e-6, 2.0, 1000)\n",
    "y1 = func1(x)\n",
    "from torch.utils.data import TensorDataset, DataLoader\n",
    "\n",
    "\n",
    "x_train_tensor = torch.tensor(x, dtype=torch.float32, device=device).view(-1, 1) \n",
    "y_train_tensor = torch.tensor(y1, dtype=torch.float32, device=device).view(-1, 1)\n",
    "train_dataset = TensorDataset(x_train_tensor, y_train_tensor)\n",
    "train_loader = DataLoader(dataset=train_dataset, batch_size=1000, shuffle=True)\n",
    "model = Model(1, 1).to(device)\n",
    "\n",
    "_,grad_per_iter,loss_per_iter = train(model, train_loader, device = device, lr=0.001, epochs=700, criterion=torch.nn.MSELoss())   "
   ],
   "metadata": {
    "collapsed": false,
    "is_executing": true
   },
   "id": "66e57891db3069d3",
   "execution_count": null
  },
  {
   "cell_type": "code",
   "outputs": [],
   "source": [
    "plt.figure()\n",
    "plt.plot(loss_per_iter)\n",
    "plt.title('Loss During Training for function1 model')\n",
    "plt.xlabel(\"Iteration\")\n",
    "plt.ylabel(\"Loss\")\n",
    "plt.show()\n",
    "\n",
    "\n",
    "plt.figure()\n",
    "plt.plot(grad_per_iter)\n",
    "plt.title('Grad During Training for function1 model')\n",
    "plt.xlabel(\"Iteration\")\n",
    "plt.ylabel(\"Epoch\")\n",
    "plt.show()"
   ],
   "metadata": {
    "collapsed": false,
    "is_executing": true
   },
   "id": "f11b57ba1d99fa00",
   "execution_count": null
  },
  {
   "cell_type": "markdown",
   "source": [],
   "metadata": {
    "collapsed": false
   },
   "id": "61363e3bfbba8876"
  },
  {
   "cell_type": "code",
   "outputs": [],
   "source": [],
   "metadata": {
    "collapsed": false,
    "is_executing": true
   },
   "id": "37eb545ff57863bd"
  }
 ],
 "metadata": {
  "kernelspec": {
   "display_name": "Python 3",
   "language": "python",
   "name": "python3"
  },
  "language_info": {
   "codemirror_mode": {
    "name": "ipython",
    "version": 2
   },
   "file_extension": ".py",
   "mimetype": "text/x-python",
   "name": "python",
   "nbconvert_exporter": "python",
   "pygments_lexer": "ipython2",
   "version": "2.7.6"
  }
 },
 "nbformat": 4,
 "nbformat_minor": 5
}
